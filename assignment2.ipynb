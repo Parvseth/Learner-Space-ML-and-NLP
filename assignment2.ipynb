{
  "nbformat": 4,
  "nbformat_minor": 0,
  "metadata": {
    "colab": {
      "provenance": []
    },
    "kernelspec": {
      "name": "python3",
      "display_name": "Python 3"
    },
    "language_info": {
      "name": "python"
    }
  },
  "cells": [
    {
      "cell_type": "code",
      "execution_count": 8,
      "metadata": {
        "colab": {
          "base_uri": "https://localhost:8080/"
        },
        "id": "w2NL4tn8Nc9i",
        "outputId": "c9cfd567-d79d-4e34-cabb-eb0adc210f24"
      },
      "outputs": [
        {
          "output_type": "stream",
          "name": "stdout",
          "text": [
            "Requirement already satisfied: numpy in /usr/local/lib/python3.11/dist-packages (1.26.4)\n",
            "Requirement already satisfied: pandas in /usr/local/lib/python3.11/dist-packages (2.2.2)\n",
            "Requirement already satisfied: scikit-learn in /usr/local/lib/python3.11/dist-packages (1.6.1)\n",
            "Requirement already satisfied: gensim in /usr/local/lib/python3.11/dist-packages (4.3.3)\n",
            "Requirement already satisfied: nltk in /usr/local/lib/python3.11/dist-packages (3.9.1)\n",
            "Requirement already satisfied: python-dateutil>=2.8.2 in /usr/local/lib/python3.11/dist-packages (from pandas) (2.9.0.post0)\n",
            "Requirement already satisfied: pytz>=2020.1 in /usr/local/lib/python3.11/dist-packages (from pandas) (2025.2)\n",
            "Requirement already satisfied: tzdata>=2022.7 in /usr/local/lib/python3.11/dist-packages (from pandas) (2025.2)\n",
            "Requirement already satisfied: scipy>=1.6.0 in /usr/local/lib/python3.11/dist-packages (from scikit-learn) (1.13.1)\n",
            "Requirement already satisfied: joblib>=1.2.0 in /usr/local/lib/python3.11/dist-packages (from scikit-learn) (1.5.1)\n",
            "Requirement already satisfied: threadpoolctl>=3.1.0 in /usr/local/lib/python3.11/dist-packages (from scikit-learn) (3.6.0)\n",
            "Requirement already satisfied: smart-open>=1.8.1 in /usr/local/lib/python3.11/dist-packages (from gensim) (7.3.0)\n",
            "Requirement already satisfied: click in /usr/local/lib/python3.11/dist-packages (from nltk) (8.2.1)\n",
            "Requirement already satisfied: regex>=2021.8.3 in /usr/local/lib/python3.11/dist-packages (from nltk) (2024.11.6)\n",
            "Requirement already satisfied: tqdm in /usr/local/lib/python3.11/dist-packages (from nltk) (4.67.1)\n",
            "Requirement already satisfied: six>=1.5 in /usr/local/lib/python3.11/dist-packages (from python-dateutil>=2.8.2->pandas) (1.17.0)\n",
            "Requirement already satisfied: wrapt in /usr/local/lib/python3.11/dist-packages (from smart-open>=1.8.1->gensim) (1.17.2)\n"
          ]
        },
        {
          "output_type": "stream",
          "name": "stderr",
          "text": [
            "[nltk_data] Downloading package punkt to /root/nltk_data...\n",
            "[nltk_data]   Package punkt is already up-to-date!\n",
            "[nltk_data] Downloading package stopwords to /root/nltk_data...\n",
            "[nltk_data]   Package stopwords is already up-to-date!\n",
            "[nltk_data] Downloading package wordnet to /root/nltk_data...\n",
            "[nltk_data]   Package wordnet is already up-to-date!\n",
            "[nltk_data] Downloading package omw-1.4 to /root/nltk_data...\n",
            "[nltk_data]   Package omw-1.4 is already up-to-date!\n"
          ]
        }
      ],
      "source": [
        "# Install if needed\n",
        "!pip install numpy pandas scikit-learn gensim nltk\n",
        "\n",
        "import numpy as np\n",
        "import pandas as pd\n",
        "\n",
        "from gensim.models import KeyedVectors\n",
        "from gensim.downloader import load as gensim_load\n",
        "\n",
        "import nltk\n",
        "from nltk.corpus import stopwords, wordnet\n",
        "from nltk.stem import WordNetLemmatizer\n",
        "from nltk import word_tokenize\n",
        "\n",
        "from sklearn.linear_model import LogisticRegression\n",
        "from sklearn.model_selection import train_test_split\n",
        "from sklearn.metrics import accuracy_score, classification_report\n",
        "\n",
        "nltk.download('punkt')\n",
        "nltk.download('stopwords')\n",
        "nltk.download('wordnet')\n",
        "nltk.download('omw-1.4')\n",
        "# nltk.download('punkt_tab') # Removed as it's not a standard corpus\n",
        "\n",
        "STOPWORDS = set(stopwords.words('english'))\n",
        "lemmatizer = WordNetLemmatizer()"
      ]
    },
    {
      "cell_type": "code",
      "source": [
        "# Use smaller, fast-loading embeddings for quick testing\n",
        "print(\"Loading Word2Vec (glove-wiki-gigaword-50, fast) ...\")\n",
        "w2v = gensim_load('glove-wiki-gigaword-50')\n",
        "print(\"✓ Word2Vec loaded.\")\n"
      ],
      "metadata": {
        "colab": {
          "base_uri": "https://localhost:8080/"
        },
        "id": "-uKFV5IbN15I",
        "outputId": "9e9d1c31-b113-4fdd-c798-00beb339698c"
      },
      "execution_count": 3,
      "outputs": [
        {
          "output_type": "stream",
          "name": "stdout",
          "text": [
            "Loading Word2Vec (glove-wiki-gigaword-50, fast) ...\n",
            "[==================================================] 100.0% 66.0/66.0MB downloaded\n",
            "✓ Word2Vec loaded.\n"
          ]
        }
      ]
    },
    {
      "cell_type": "code",
      "source": [
        "def sentence_vector(sentence, w2v):\n",
        "    vectors = [w2v[w] for w in sentence if w in w2v]\n",
        "    vec = np.mean(vectors, axis=0) if vectors else np.zeros(w2v.vector_size)\n",
        "    if np.isnan(vec).any():\n",
        "        vec = np.zeros(w2v.vector_size)\n",
        "    return vec\n",
        "\n",
        "def preprocess_sms(text):\n",
        "    # Use default word_tokenize which relies on the downloaded 'punkt' resource\n",
        "    tokens = nltk.word_tokenize(text.lower())\n",
        "    tokens = [t for t in tokens if t.isalpha() and t not in STOPWORDS]\n",
        "    return tokens\n",
        "\n",
        "def expand_contractions(text):\n",
        "    CONTRACTIONS = {\"don't\": \"do not\", \"can't\": \"can not\", \"i'm\": \"i am\", \"it's\": \"it is\", \"won't\": \"will not\", \"didn't\": \"did not\"}\n",
        "    for contraction, expanded in CONTRACTIONS.items():\n",
        "        text = text.replace(contraction, expanded)\n",
        "    return text\n",
        "\n",
        "import re, string\n",
        "\n",
        "URL_RE = re.compile(r'https?://\\S+|www\\.\\S+')\n",
        "MENTION_RE = re.compile(r'@\\w+')\n",
        "HASHTAG_RE = re.compile(r'#\\w+')\n",
        "\n",
        "def clean_tweet(text):\n",
        "    text = expand_contractions(text.lower())\n",
        "    text = URL_RE.sub('', text)\n",
        "    text = MENTION_RE.sub('', text)\n",
        "    text = HASHTAG_RE.sub('', text)\n",
        "    text = text.translate(str.maketrans('', '', string.punctuation))\n",
        "    tokens = word_tokenize(text)\n",
        "    tokens = [lemmatizer.lemmatize(t) for t in tokens if t.isalpha() and t not in STOPWORDS]\n",
        "    return tokens"
      ],
      "metadata": {
        "id": "jXIyYyo-N4SJ"
      },
      "execution_count": 9,
      "outputs": []
    },
    {
      "cell_type": "code",
      "source": [
        "# Upload 'spam.csv' manually via Colab UI before running this cell\n",
        "df_sms = pd.read_csv('/content/spam.csv', encoding='latin-1')\n",
        "df_sms = df_sms.rename(columns={'v1': 'Label', 'v2': 'Message'})[['Label', 'Message']].dropna()\n",
        "\n",
        "df_sms['tokens'] = df_sms['Message'].apply(preprocess_sms)\n",
        "X_sms = np.vstack(df_sms['tokens'].apply(lambda toks: sentence_vector(toks, w2v)))\n",
        "y_sms = df_sms['Label'].map({'ham': 0, 'spam': 1}).values\n",
        "\n",
        "X_train_sms, X_test_sms, y_train_sms, y_test_sms = train_test_split(X_sms, y_sms, test_size=0.2, random_state=42, stratify=y_sms)\n",
        "\n",
        "clf_sms = LogisticRegression(max_iter=1000, solver='liblinear')\n",
        "clf_sms.fit(X_train_sms, y_train_sms)\n",
        "y_pred_sms = clf_sms.predict(X_test_sms)\n",
        "\n",
        "print(\"\\n📌 **SMS Spam Classification Results:**\")\n",
        "print(\"Accuracy:\", accuracy_score(y_test_sms, y_pred_sms))\n",
        "print(classification_report(y_test_sms, y_pred_sms, target_names=['ham', 'spam']))\n"
      ],
      "metadata": {
        "colab": {
          "base_uri": "https://localhost:8080/"
        },
        "id": "_0mSqnrxN8Lk",
        "outputId": "0cab2152-507c-416a-f038-17c1ebe5c305"
      },
      "execution_count": 10,
      "outputs": [
        {
          "output_type": "stream",
          "name": "stdout",
          "text": [
            "\n",
            "📌 **SMS Spam Classification Results:**\n",
            "Accuracy: 0.9264573991031391\n",
            "              precision    recall  f1-score   support\n",
            "\n",
            "         ham       0.94      0.97      0.96       966\n",
            "        spam       0.78      0.62      0.69       149\n",
            "\n",
            "    accuracy                           0.93      1115\n",
            "   macro avg       0.86      0.80      0.83      1115\n",
            "weighted avg       0.92      0.93      0.92      1115\n",
            "\n"
          ]
        }
      ]
    },
    {
      "cell_type": "code",
      "source": [
        "# Upload 'Tweets.csv' manually via Colab UI before running this cell\n",
        "df_twitter = pd.read_csv('/content/Tweets.csv')[['airline_sentiment', 'text']].dropna()\n",
        "df_twitter['tokens'] = df_twitter['text'].apply(clean_tweet)\n",
        "\n",
        "X_twitter = np.vstack(df_twitter['tokens'].apply(lambda toks: sentence_vector(toks, w2v)))\n",
        "sentiment_map = {'negative': 0, 'neutral': 1, 'positive': 2}\n",
        "y_twitter = df_twitter['airline_sentiment'].map(sentiment_map).values\n",
        "\n",
        "X_train_twitter, X_test_twitter, y_train_twitter, y_test_twitter = train_test_split(\n",
        "    X_twitter, y_twitter, test_size=0.2, random_state=42, stratify=y_twitter\n",
        ")\n",
        "\n",
        "clf_twitter = LogisticRegression(max_iter=1000, multi_class='ovr')\n",
        "clf_twitter.fit(X_train_twitter, y_train_twitter)\n",
        "y_pred_twitter = clf_twitter.predict(X_test_twitter)\n",
        "\n",
        "print(\"\\n📌 **Twitter Sentiment Classification Results:**\")\n",
        "print(\"Accuracy:\", accuracy_score(y_test_twitter, y_pred_twitter))\n",
        "print(classification_report(y_test_twitter, y_pred_twitter, target_names=['negative', 'neutral', 'positive']))\n"
      ],
      "metadata": {
        "colab": {
          "base_uri": "https://localhost:8080/"
        },
        "id": "x2NcfT0UN_RH",
        "outputId": "d66ea762-1301-45bc-a40b-dab3aa07557e"
      },
      "execution_count": 11,
      "outputs": [
        {
          "output_type": "stream",
          "name": "stderr",
          "text": [
            "/usr/local/lib/python3.11/dist-packages/sklearn/linear_model/_logistic.py:1256: FutureWarning: 'multi_class' was deprecated in version 1.5 and will be removed in 1.7. Use OneVsRestClassifier(LogisticRegression(..)) instead. Leave it to its default value to avoid this warning.\n",
            "  warnings.warn(\n"
          ]
        },
        {
          "output_type": "stream",
          "name": "stdout",
          "text": [
            "\n",
            "📌 **Twitter Sentiment Classification Results:**\n",
            "Accuracy: 0.7213114754098361\n",
            "              precision    recall  f1-score   support\n",
            "\n",
            "    negative       0.74      0.94      0.83      1835\n",
            "     neutral       0.59      0.30      0.40       620\n",
            "    positive       0.71      0.44      0.54       473\n",
            "\n",
            "    accuracy                           0.72      2928\n",
            "   macro avg       0.68      0.56      0.59      2928\n",
            "weighted avg       0.70      0.72      0.69      2928\n",
            "\n"
          ]
        }
      ]
    },
    {
      "cell_type": "code",
      "source": [
        "# Problem 1: Predict spam/ham\n",
        "test_sms = \"Congratulations! You've won a free cruise to the Bahamas. Call now.\"\n",
        "tokens_sms = preprocess_sms(test_sms)\n",
        "vec_sms = sentence_vector(tokens_sms, w2v).reshape(1, -1)\n",
        "pred_sms = clf_sms.predict(vec_sms)[0]\n",
        "print(\"\\nTest SMS prediction:\", \"spam\" if pred_sms == 1 else \"ham\")\n",
        "\n",
        "# Problem 2: Predict tweet sentiment\n",
        "test_tweet = \"I love how friendly the flight attendants were on my @SouthwestAir flight!\"\n",
        "tokens_tweet = clean_tweet(test_tweet)\n",
        "vec_tweet = sentence_vector(tokens_tweet, w2v).reshape(1, -1)\n",
        "pred_tweet = clf_twitter.predict(vec_tweet)[0]\n",
        "print(\"Test Tweet Sentiment Prediction:\", {0: 'negative', 1: 'neutral', 2: 'positive'}[pred_tweet])\n"
      ],
      "metadata": {
        "colab": {
          "base_uri": "https://localhost:8080/"
        },
        "id": "8OICTUgYOA7i",
        "outputId": "80a66763-1566-44af-9f45-02c373bd63f7"
      },
      "execution_count": 12,
      "outputs": [
        {
          "output_type": "stream",
          "name": "stdout",
          "text": [
            "\n",
            "Test SMS prediction: spam\n",
            "Test Tweet Sentiment Prediction: negative\n"
          ]
        }
      ]
    },
    {
      "cell_type": "code",
      "source": [],
      "metadata": {
        "id": "jnRxv_DPODXg"
      },
      "execution_count": null,
      "outputs": []
    }
  ]
}